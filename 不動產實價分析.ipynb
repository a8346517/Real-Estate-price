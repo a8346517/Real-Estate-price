{
 "cells": [
  {
   "cell_type": "code",
   "execution_count": 30,
   "metadata": {
    "scrolled": true
   },
   "outputs": [
    {
     "name": "stderr",
     "output_type": "stream",
     "text": [
      "C:\\Users\\mshome\\anaconda3\\lib\\site-packages\\IPython\\core\\interactiveshell.py:3146: DtypeWarning: Columns (3,7,14,15,16,17,18,21,22,24,25) have mixed types.Specify dtype option on import or set low_memory=False.\n",
      "  has_raised = await self.run_ast_nodes(code_ast.body, cell_name,\n"
     ]
    },
    {
     "name": "stdout",
     "output_type": "stream",
     "text": [
      "                                    鄉鎮市區              交易標的  \\\n",
      "0  The villages and towns urban district  transaction sign   \n",
      "1                                    文山區      房地(土地+建物)+車位   \n",
      "2                                    文山區         房地(土地+建物)   \n",
      "3                                    文山區         房地(土地+建物)   \n",
      "4                                    中正區         房地(土地+建物)   \n",
      "\n",
      "                                        土地區段位置建物區段門牌  \\\n",
      "0  land sector position building sector house num...   \n",
      "1                                臺北市文山區忠順街二段85巷1~30號   \n",
      "2                                   臺北市文山區福興路91~120號   \n",
      "3                                臺北市文山區木柵路四段121~150號   \n",
      "4                                 臺北市中正區和平西路一段31~60號   \n",
      "\n",
      "                             土地移轉總面積平方公尺  \\\n",
      "0  land shifting total area square meter   \n",
      "1                                  26.97   \n",
      "2                                  10.32   \n",
      "3                                  39.64   \n",
      "4                                   4.26   \n",
      "\n",
      "                                都市土地使用分區  \\\n",
      "0  the use zoning or compiles and checks   \n",
      "1                                      住   \n",
      "2                                      住   \n",
      "3                                     其他   \n",
      "4                                      商   \n",
      "\n",
      "                              非都市土地使用分區                非都市土地使用編定  \\\n",
      "0  the non-metropolis land use district  non-metropolis land use   \n",
      "1                                   NaN                      NaN   \n",
      "2                                   NaN                      NaN   \n",
      "3                                   NaN                      NaN   \n",
      "4                                   NaN                      NaN   \n",
      "\n",
      "                            交易年月日                   交易筆棟數            移轉層次  \\\n",
      "0  transaction year month and day  transaction pen number  shifting level   \n",
      "1                         1090406               土地1建物1車位2              四層   \n",
      "2                         1090317               土地1建物1車位0              三層   \n",
      "3                         1090418               土地2建物1車位0              六層   \n",
      "4                         1090413               土地2建物1車位0              九層   \n",
      "\n",
      "   ...                              單價元平方公尺                車位類別  \\\n",
      "0  ...  the unit price (NTD / square meter)  the berth category   \n",
      "1  ...                               156583                坡道平面   \n",
      "2  ...                               149558                 NaN   \n",
      "3  ...                               181472                 NaN   \n",
      "4  ...                               299450                 NaN   \n",
      "\n",
      "                            車位移轉總面積(平方公尺)                      車位總價元  \\\n",
      "0  berth shifting total area square meter  the berth total price NTD   \n",
      "1                                    40.7                          0   \n",
      "2                                     0.0                          0   \n",
      "3                                     0.0                          0   \n",
      "4                                     0.0                          0   \n",
      "\n",
      "                             備註                   編號   主建物面積 附屬建物面積   陽台面積  \\\n",
      "0                      the note        serial number     NaN    NaN    NaN   \n",
      "1  含增建或未登記建物。;內含獨立產權車位，未包含在棟數內。  RPVOMLMKNHPFFAA18CA  110.91   9.63  11.09   \n",
      "2                   含增建或未登記建物。;  RPPPMLMKNHPFFAA67CA   24.58   1.28   2.30   \n",
      "3                           NaN  RPSPMLMKNHPFFAA97CA   78.80   4.15   8.76   \n",
      "4                   含增建或未登記建物。;  RPPOMLMKNHPFFAA57CA   18.34   0.00   6.45   \n",
      "\n",
      "    電梯  \n",
      "0  NaN  \n",
      "1  NaN  \n",
      "2  NaN  \n",
      "3  NaN  \n",
      "4  NaN  \n",
      "\n",
      "[5 rows x 32 columns]\n"
     ]
    }
   ],
   "source": [
    "# 1. 不動產資料檔案讀取並串接\n",
    "\n",
    "\n",
    "# 用Pandas中的pd.read_csv()分別讀取A_lvr_land_A.csv、B_lvr_land_A.csv、E_lvr_land_A.csv、F_lvr_land_A.csv\n",
    "import pandas as pd\n",
    "datataipei = pd.read_csv(\"A_lvr_land_A.csv\")\n",
    "datataichung = pd.read_csv(\"B_lvr_land_A.csv\")\n",
    "datakaohsiung = pd.read_csv('E_lvr_land_A.csv')\n",
    "datanewtaipei = pd.read_csv('F_lvr_land_A.csv')\n",
    "print(datataipei.head())\n"
   ]
  },
  {
   "cell_type": "code",
   "execution_count": 31,
   "metadata": {},
   "outputs": [
    {
     "name": "stdout",
     "output_type": "stream",
     "text": [
      "  鄉鎮市區          交易標的         土地區段位置建物區段門牌 土地移轉總面積平方公尺 都市土地使用分區 非都市土地使用分區  \\\n",
      "1  文山區  房地(土地+建物)+車位  臺北市文山區忠順街二段85巷1~30號       26.97        住       NaN   \n",
      "2  文山區     房地(土地+建物)     臺北市文山區福興路91~120號       10.32        住       NaN   \n",
      "3  文山區     房地(土地+建物)  臺北市文山區木柵路四段121~150號       39.64       其他       NaN   \n",
      "4  中正區     房地(土地+建物)   臺北市中正區和平西路一段31~60號        4.26        商       NaN   \n",
      "5  文山區     房地(土地+建物)    臺北市文山區樟新街56巷1~30號       44.57        住       NaN   \n",
      "\n",
      "  非都市土地使用編定    交易年月日      交易筆棟數 移轉層次  ... 單價元平方公尺  車位類別 車位移轉總面積(平方公尺) 車位總價元  \\\n",
      "1       NaN  1090406  土地1建物1車位2   四層  ...  156583  坡道平面          40.7     0   \n",
      "2       NaN  1090317  土地1建物1車位0   三層  ...  149558   NaN           0.0     0   \n",
      "3       NaN  1090418  土地2建物1車位0   六層  ...  181472   NaN           0.0     0   \n",
      "4       NaN  1090413  土地2建物1車位0   九層  ...  299450   NaN           0.0     0   \n",
      "5       NaN  1090328  土地3建物1車位0   四層  ...  147825   NaN           0.0     0   \n",
      "\n",
      "                             備註                   編號   主建物面積 附屬建物面積   陽台面積  \\\n",
      "1  含增建或未登記建物。;內含獨立產權車位，未包含在棟數內。  RPVOMLMKNHPFFAA18CA  110.91   9.63  11.09   \n",
      "2                   含增建或未登記建物。;  RPPPMLMKNHPFFAA67CA   24.58   1.28   2.30   \n",
      "3                           NaN  RPSPMLMKNHPFFAA97CA   78.80   4.15   8.76   \n",
      "4                   含增建或未登記建物。;  RPPOMLMKNHPFFAA57CA   18.34   0.00   6.45   \n",
      "5                   含增建或未登記建物。;  RPWNMLNKNHPFFAA28CA   98.74   2.26  11.84   \n",
      "\n",
      "    電梯  \n",
      "1  NaN  \n",
      "2  NaN  \n",
      "3  NaN  \n",
      "4  NaN  \n",
      "5  NaN  \n",
      "\n",
      "[5 rows x 32 columns]\n"
     ]
    }
   ],
   "source": [
    "#刪除csv中第二列英文翻譯\n",
    "datataipei = datataipei.drop(0)\n",
    "datataichung = datataichung.drop(0)\n",
    "datakaohsiung = datakaohsiung.drop(0)\n",
    "datanewtaipei = datanewtaipei.drop(0)\n",
    "print(datataipei.head())"
   ]
  },
  {
   "cell_type": "code",
   "execution_count": 33,
   "metadata": {},
   "outputs": [],
   "source": [
    "# 生成city欄位其中以地區分類台北市Taipei(A_lvr_land_A.csv)、新北市New_Taipei(F_lvr_land_A.csv)、台中市Taichung(B_lvr_land_A.csv)、高雄市Kaohsiung(E_lvr_land_A.csv)\n",
    "datataipei['地區'] = '台北'\n",
    "datataichung['地區'] = '台中'\n",
    "datakaohsiung['地區'] = '高雄'\n",
    "datanewtaipei['地區'] = '新北'"
   ]
  },
  {
   "cell_type": "code",
   "execution_count": 34,
   "metadata": {},
   "outputs": [
    {
     "name": "stdout",
     "output_type": "stream",
     "text": [
      "  鄉鎮市區          交易標的         土地區段位置建物區段門牌 土地移轉總面積平方公尺 都市土地使用分區 非都市土地使用分區  \\\n",
      "0  文山區  房地(土地+建物)+車位  臺北市文山區忠順街二段85巷1~30號       26.97        住       NaN   \n",
      "1  文山區     房地(土地+建物)     臺北市文山區福興路91~120號       10.32        住       NaN   \n",
      "2  文山區     房地(土地+建物)  臺北市文山區木柵路四段121~150號       39.64       其他       NaN   \n",
      "3  中正區     房地(土地+建物)   臺北市中正區和平西路一段31~60號        4.26        商       NaN   \n",
      "4  文山區     房地(土地+建物)    臺北市文山區樟新街56巷1~30號       44.57        住       NaN   \n",
      "\n",
      "  非都市土地使用編定    交易年月日      交易筆棟數 移轉層次  ...  車位類別 車位移轉總面積(平方公尺) 車位總價元  \\\n",
      "0       NaN  1090406  土地1建物1車位2   四層  ...  坡道平面          40.7     0   \n",
      "1       NaN  1090317  土地1建物1車位0   三層  ...   NaN           0.0     0   \n",
      "2       NaN  1090418  土地2建物1車位0   六層  ...   NaN           0.0     0   \n",
      "3       NaN  1090413  土地2建物1車位0   九層  ...   NaN           0.0     0   \n",
      "4       NaN  1090328  土地3建物1車位0   四層  ...   NaN           0.0     0   \n",
      "\n",
      "                             備註                   編號   主建物面積 附屬建物面積   陽台面積  \\\n",
      "0  含增建或未登記建物。;內含獨立產權車位，未包含在棟數內。  RPVOMLMKNHPFFAA18CA  110.91   9.63  11.09   \n",
      "1                   含增建或未登記建物。;  RPPPMLMKNHPFFAA67CA   24.58   1.28   2.30   \n",
      "2                           NaN  RPSPMLMKNHPFFAA97CA   78.80   4.15   8.76   \n",
      "3                   含增建或未登記建物。;  RPPOMLMKNHPFFAA57CA   18.34   0.00   6.45   \n",
      "4                   含增建或未登記建物。;  RPWNMLNKNHPFFAA28CA   98.74   2.26  11.84   \n",
      "\n",
      "    電梯  地區  \n",
      "0  NaN  台北  \n",
      "1  NaN  台北  \n",
      "2  NaN  台北  \n",
      "3  NaN  台北  \n",
      "4  NaN  台北  \n",
      "\n",
      "[5 rows x 33 columns]\n",
      "<class 'pandas.core.frame.DataFrame'>\n",
      "RangeIndex: 59476 entries, 0 to 59475\n",
      "Data columns (total 33 columns):\n",
      " #   Column         Non-Null Count  Dtype  \n",
      "---  ------         --------------  -----  \n",
      " 0   鄉鎮市區           59476 non-null  object \n",
      " 1   交易標的           59476 non-null  object \n",
      " 2   土地區段位置建物區段門牌   59476 non-null  object \n",
      " 3   土地移轉總面積平方公尺    59476 non-null  object \n",
      " 4   都市土地使用分區       54097 non-null  object \n",
      " 5   非都市土地使用分區      4306 non-null   object \n",
      " 6   非都市土地使用編定      4302 non-null   object \n",
      " 7   交易年月日          59476 non-null  object \n",
      " 8   交易筆棟數          59476 non-null  object \n",
      " 9   移轉層次           49724 non-null  object \n",
      " 10  總樓層數           49664 non-null  object \n",
      " 11  建物型態           59476 non-null  object \n",
      " 12  主要用途           47889 non-null  object \n",
      " 13  主要建材           49680 non-null  object \n",
      " 14  建築完成年月         48690 non-null  object \n",
      " 15  建物移轉總面積平方公尺    59476 non-null  object \n",
      " 16  建物現況格局-房       59476 non-null  object \n",
      " 17  建物現況格局-廳       59476 non-null  object \n",
      " 18  建物現況格局-衛       59476 non-null  object \n",
      " 19  建物現況格局-隔間      59476 non-null  object \n",
      " 20  有無管理組織         59476 non-null  object \n",
      " 21  總價元            59476 non-null  object \n",
      " 22  單價元平方公尺        58156 non-null  object \n",
      " 23  車位類別           23685 non-null  object \n",
      " 24  車位移轉總面積(平方公尺)  59476 non-null  object \n",
      " 25  車位總價元          59476 non-null  object \n",
      " 26  備註             24759 non-null  object \n",
      " 27  編號             59476 non-null  object \n",
      " 28  主建物面積          59476 non-null  float64\n",
      " 29  附屬建物面積         59476 non-null  float64\n",
      " 30  陽台面積           59476 non-null  float64\n",
      " 31  電梯             32944 non-null  object \n",
      " 32  地區             59476 non-null  object \n",
      "dtypes: float64(3), object(30)\n",
      "memory usage: 15.0+ MB\n",
      "None\n"
     ]
    }
   ],
   "source": [
    "# 將以上四份資料運用pd.concat()串接\n",
    "data = pd.concat([datataipei, datataichung, datakaohsiung, datanewtaipei], axis=0, join='inner').reset_index(drop=True)\n",
    "print(data.head())\n",
    "print(data.info())"
   ]
  },
  {
   "cell_type": "code",
   "execution_count": 35,
   "metadata": {},
   "outputs": [
    {
     "name": "stdout",
     "output_type": "stream",
     "text": [
      "<class 'pandas.core.frame.DataFrame'>\n",
      "Int64Index: 7802 entries, 0 to 51169\n",
      "Data columns (total 12 columns):\n",
      " #   Column                      Non-Null Count  Dtype  \n",
      "---  ------                      --------------  -----  \n",
      " 0   city                        7802 non-null   object \n",
      " 1   towns                       7802 non-null   object \n",
      " 2   main_use                    7802 non-null   object \n",
      " 3   use_zoning                  7802 non-null   object \n",
      " 4   total_price                 7802 non-null   object \n",
      " 5   building_area_square_meter  7802 non-null   object \n",
      " 6   main_building_area          7802 non-null   float64\n",
      " 7   tx_dt                       7802 non-null   object \n",
      " 8   unit_price                  7802 non-null   object \n",
      " 9   room_number                 7802 non-null   object \n",
      " 10  hall_number                 7802 non-null   object \n",
      " 11  health_number               7802 non-null   object \n",
      "dtypes: float64(1), object(11)\n",
      "memory usage: 792.4+ KB\n",
      "None\n",
      "<class 'pandas.core.frame.DataFrame'>\n",
      "Int64Index: 7802 entries, 0 to 51169\n",
      "Data columns (total 12 columns):\n",
      " #   Column                      Non-Null Count  Dtype  \n",
      "---  ------                      --------------  -----  \n",
      " 0   city                        7802 non-null   object \n",
      " 1   towns                       7802 non-null   object \n",
      " 2   main_use                    7802 non-null   object \n",
      " 3   use_zoning                  7802 non-null   object \n",
      " 4   total_price                 7802 non-null   int32  \n",
      " 5   building_area_square_meter  7802 non-null   float64\n",
      " 6   main_building_area          7802 non-null   float64\n",
      " 7   tx_dt                       7802 non-null   object \n",
      " 8   unit_price                  7802 non-null   float64\n",
      " 9   room_number                 7802 non-null   int32  \n",
      " 10  hall_number                 7802 non-null   int32  \n",
      " 11  health_number               7802 non-null   int32  \n",
      "dtypes: float64(3), int32(4), object(5)\n",
      "memory usage: 670.5+ KB\n",
      "None\n",
      "  city towns main_use use_zoning  total_price  building_area_square_meter  \\\n",
      "0   台北   文山區      住家用          住     36000000                      229.91   \n",
      "1   台北   文山區      住家用          住      5580000                       37.31   \n",
      "4   台北   文山區      住家用          住     18280000                      123.66   \n",
      "6   台北   文山區      住家用          住      8000000                      124.25   \n",
      "7   台北   文山區      住家用          住      2200000                       30.16   \n",
      "\n",
      "   main_building_area    tx_dt  unit_price  room_number  hall_number  \\\n",
      "0              110.91  1090406    156583.0            3            2   \n",
      "1               24.58  1090317    149558.0            2            1   \n",
      "4               98.74  1090328    147825.0            3            2   \n",
      "6               90.78  1090417     64386.0            3            1   \n",
      "7               26.15  1090417     72944.0            5            2   \n",
      "\n",
      "   health_number  \n",
      "0              2  \n",
      "1              1  \n",
      "4              2  \n",
      "6              2  \n",
      "7              2  \n"
     ]
    }
   ],
   "source": [
    "# 2. 資料清理與切片\n",
    "# 因為我是想買來住的房子，所以幫忙刪除住宿用途以外的資料，並且限制\n",
    "\n",
    "# 交易年月日，限制在109年\n",
    "# 建物現況格局-房，1~5間\n",
    "# 建物現況格局-廳，1~2廳\n",
    "# 以下columns_mapping、analysis_columns、columns_type提供給資料科學家配合使用\n",
    "# 利用.rename()並配合以下columns_mapping，將原中文欄位名稱改為英文方便之後分析\n",
    "# 取出主要用途(main_use)為'住家用'以及都市土地使用分區(use_zoning)為'住'的資料並針對以下欄位analysis_columns做分析並去除na值 \n",
    "# 觀察欄位資料型態，並利用.astype()搭配以下提供的columns_type做欄位型態轉換\n",
    "columns_mapping = {'鄉鎮市區':'towns',\n",
    "'交易標的':'transaction_sign',\n",
    "'土地區段位置建物區段門牌':'house_number',\n",
    "'土地移轉總面積平方公尺':'land_area_square_meter', \n",
    "'都市土地使用分區':'use_zoning', \n",
    "'非都市土地使用分區':'land_use_district',\n",
    "'非都市土地使用編定':'land_use',\n",
    "'交易年月日':'tx_dt', \n",
    " '交易筆棟數':'transaction_pen_number', \n",
    " '移轉層次':'shifting_level', \n",
    " '總樓層數':'total_floor_number', \n",
    " '建物型態':'building_state', \n",
    " '主要用途':'main_use', \n",
    " '主要建材':'main_materials',\n",
    " '建築完成年月':'complete_date', \n",
    " '建物移轉總面積平方公尺':'building_area_square_meter', \n",
    " '建物現況格局-房':'room_number', \n",
    " '建物現況格局-廳':'hall_number', \n",
    " '建物現況格局-衛':'health_number', \n",
    "'建物現況格局-隔間':'compartmented_number', \n",
    " '有無管理組織':'manages', \n",
    " '總價元':'total_price', \n",
    " '單價元平方公尺':'unit_price', \n",
    " '車位類別':'berth_category', \n",
    " '車位移轉總面積(平方公尺)':'berth_area_square_meter',\n",
    "'車位總價元':'berth_price', \n",
    " '備註':'note', \n",
    " '編號':'serial_number', \n",
    " '主建物面積':'main_building_area', \n",
    " '附屬建物面積':'auxiliary_building_area', \n",
    " '陽台面積':'balcony_area', \n",
    " '電梯':'elevator',\n",
    " '地區':'city'\n",
    "                  }\n",
    "analysis_columns = ['city','towns','main_use','use_zoning','total_price','building_area_square_meter',\n",
    "                                     'main_building_area',\n",
    "                                     'tx_dt','unit_price','room_number','hall_number','health_number']\n",
    "columns_type = {'total_price': 'int','unit_price':'float','building_area_square_meter':'float',\n",
    "                                      'main_building_area': 'float',\n",
    "                                      'room_number': 'int','hall_number': 'int','health_number': 'int'}\n",
    "new_data = data.rename(columns=columns_mapping)\n",
    "new_data = new_data.loc[(new_data['main_use']=='住家用')&(new_data['use_zoning']=='住'),analysis_columns].dropna()\n",
    "print(new_data.info())\n",
    "new_data = new_data.astype(columns_type)\n",
    "print(new_data.info())\n",
    "print(new_data.head())"
   ]
  },
  {
   "cell_type": "code",
   "execution_count": 36,
   "metadata": {},
   "outputs": [
    {
     "name": "stdout",
     "output_type": "stream",
     "text": [
      "     city towns main_use use_zoning  total_price  building_area_square_meter  \\\n",
      "0      台北   文山區      住家用          住     36000000                      229.91   \n",
      "1      台北   文山區      住家用          住      5580000                       37.31   \n",
      "2      台北   文山區      住家用          住     18280000                      123.66   \n",
      "3      台北   文山區      住家用          住      8000000                      124.25   \n",
      "4      台北   文山區      住家用          住      2200000                       30.16   \n",
      "...   ...   ...      ...        ...          ...                         ...   \n",
      "6889   新北   新店區      住家用          住     10500000                      112.33   \n",
      "6890   新北   蘆洲區      住家用          住      9200000                       92.14   \n",
      "6891   新北   三重區      住家用          住      6000000                       67.00   \n",
      "6892   新北   汐止區      住家用          住     11800000                      124.31   \n",
      "6893   新北   泰山區      住家用          住      9000000                      193.31   \n",
      "\n",
      "      main_building_area    tx_dt  unit_price  room_number  hall_number  \\\n",
      "0                 110.91  1090406    156583.0            3            2   \n",
      "1                  24.58  1090317    149558.0            2            1   \n",
      "2                  98.74  1090328    147825.0            3            2   \n",
      "3                  90.78  1090417     64386.0            3            1   \n",
      "4                  26.15  1090417     72944.0            5            2   \n",
      "...                  ...      ...         ...          ...          ...   \n",
      "6889               93.18  1090516     93475.0            3            2   \n",
      "6890               86.55  1090529     99848.0            3            2   \n",
      "6891               67.00  1090522     89552.0            1            1   \n",
      "6892               98.54  1090507     94924.0            3            2   \n",
      "6893               88.80  1090614     46557.0            2            2   \n",
      "\n",
      "      health_number  tx_dt_year  \n",
      "0                 2         109  \n",
      "1                 1         109  \n",
      "2                 2         109  \n",
      "3                 2         109  \n",
      "4                 2         109  \n",
      "...             ...         ...  \n",
      "6889              2         109  \n",
      "6890              1         109  \n",
      "6891              1         109  \n",
      "6892              2         109  \n",
      "6893              2         109  \n",
      "\n",
      "[6894 rows x 13 columns]\n"
     ]
    }
   ],
   "source": [
    "# 新增欄位交易年月日(tx_dt_year)，從交易年月日(tx_dt)萃取出年份\n",
    "# 1.交易年月日(tx_dt_year)，限制在109年\n",
    "# 2.建物現況格局-房(room_number)，限制在1到5間\n",
    "# 3.建物現況格局-廳(hall_number)，限制在1到2廳\n",
    "# 4.最後運用.reset_index()重新定義索引\n",
    "new_data['tx_dt_year'] = new_data['tx_dt'].apply(lambda x : int(x[:3]))\n",
    "new_data = new_data.loc[(new_data['tx_dt_year']==109)&\n",
    "                        (new_data['room_number']>=1)&\n",
    "                        (new_data['room_number']<=5)&\n",
    "                        (new_data['hall_number']>=1)&\n",
    "                        (new_data['hall_number']<=2)].reset_index(drop=True)\n",
    "print(new_data)"
   ]
  },
  {
   "cell_type": "code",
   "execution_count": 37,
   "metadata": {},
   "outputs": [
    {
     "name": "stdout",
     "output_type": "stream",
     "text": [
      "        total_price  building_area_square_meter  main_building_area  \\\n",
      "count  6.894000e+03                 6894.000000         6894.000000   \n",
      "mean   1.138712e+07                  121.712089           82.086667   \n",
      "std    1.159445e+07                   62.871712           37.363166   \n",
      "min    0.000000e+00                    0.970000            0.000000   \n",
      "25%    5.580000e+06                   82.965000           60.682500   \n",
      "50%    8.550000e+06                  109.390000           78.990000   \n",
      "75%    1.329500e+07                  147.517500           95.797500   \n",
      "max    2.250000e+08                 1444.950000          335.760000   \n",
      "\n",
      "          unit_price  room_number  hall_number  health_number  tx_dt_year  \\\n",
      "count    6894.000000  6894.000000  6894.000000    6894.000000      6894.0   \n",
      "mean    94364.671163     2.850885     1.793299       1.733536       109.0   \n",
      "std     58317.311227     0.898498     0.404969       0.681085         0.0   \n",
      "min         0.000000     1.000000     1.000000       0.000000       109.0   \n",
      "25%     53532.250000     2.000000     2.000000       1.000000       109.0   \n",
      "50%     79610.000000     3.000000     2.000000       2.000000       109.0   \n",
      "75%    118728.250000     3.000000     2.000000       2.000000       109.0   \n",
      "max    610104.000000     5.000000     2.000000       6.000000       109.0   \n",
      "\n",
      "       buildin_area_square_feet  main_buildin_area_square_feet  \\\n",
      "count               6894.000000                    6894.000000   \n",
      "mean                  36.817907                      24.831217   \n",
      "std                   19.018693                      11.302358   \n",
      "min                    0.293425                       0.000000   \n",
      "25%                   25.096912                      18.356456   \n",
      "50%                   33.090475                      23.894475   \n",
      "75%                   44.624044                      28.978744   \n",
      "max                  437.097375                     101.567400   \n",
      "\n",
      "       unit_price_square_feet  \n",
      "count            6.894000e+03  \n",
      "mean             3.119493e+05  \n",
      "std              1.927845e+05  \n",
      "min              0.000000e+00  \n",
      "25%              1.769661e+05  \n",
      "50%              2.631736e+05  \n",
      "75%              3.924901e+05  \n",
      "max              2.016873e+06  \n",
      "        total_price  building_area_square_meter  main_building_area  \\\n",
      "count  6.854000e+03                 6854.000000         6854.000000   \n",
      "mean   1.141669e+07                  121.768404           82.565725   \n",
      "std    1.161669e+07                   62.849105           36.940424   \n",
      "min    4.100000e+05                    7.440000            7.440000   \n",
      "25%    5.600000e+06                   83.012500           61.062500   \n",
      "50%    8.600000e+06                  109.405000           79.110000   \n",
      "75%    1.330000e+07                  147.445000           95.970000   \n",
      "max    2.250000e+08                 1444.950000          335.760000   \n",
      "\n",
      "          unit_price  room_number  hall_number  health_number  tx_dt_year  \\\n",
      "count    6854.000000  6854.000000  6854.000000    6854.000000      6854.0   \n",
      "mean    94548.453020     2.849869     1.793114       1.733149       109.0   \n",
      "std     58374.690321     0.898343     0.405103       0.680869         0.0   \n",
      "min      3239.000000     1.000000     1.000000       0.000000       109.0   \n",
      "25%     53597.250000     2.000000     2.000000       1.000000       109.0   \n",
      "50%     79742.500000     3.000000     2.000000       2.000000       109.0   \n",
      "75%    118880.000000     3.000000     2.000000       2.000000       109.0   \n",
      "max    610104.000000     5.000000     2.000000       6.000000       109.0   \n",
      "\n",
      "       buildin_area_square_feet  main_buildin_area_square_feet  \\\n",
      "count               6854.000000                    6854.000000   \n",
      "mean                  36.834942                      24.976132   \n",
      "std                   19.011854                      11.174478   \n",
      "min                    2.250600                       2.250600   \n",
      "25%                   25.111281                      18.471406   \n",
      "50%                   33.095012                      23.930775   \n",
      "75%                   44.602112                      29.030925   \n",
      "max                  437.097375                     101.567400   \n",
      "\n",
      "       unit_price_square_feet  \n",
      "count            6.854000e+03  \n",
      "mean             3.125569e+05  \n",
      "std              1.929742e+05  \n",
      "min              1.070744e+04  \n",
      "25%              1.771810e+05  \n",
      "50%              2.636116e+05  \n",
      "75%              3.929917e+05  \n",
      "max              2.016873e+06  \n"
     ]
    }
   ],
   "source": [
    "# 3. 建立自定義特徵加入分析\n",
    "# 建立新特徵\n",
    "# 1. 建物移轉總面積坪(building_area_square_feet) : 建物移轉總面積平方公尺*0.3025\n",
    "# 2. 主建物面積坪(main_building_area_square_feet) : 主建物面積*0.3025\n",
    "# 3. 單價元坪(unit_price_square_feet) : 單價元平方公尺/0.3025\n",
    "new_data['buildin_area_square_feet'] = new_data['building_area_square_meter']*0.3025\n",
    "new_data['main_buildin_area_square_feet'] = new_data['main_building_area']*0.3025\n",
    "new_data['unit_price_square_feet'] = new_data['unit_price']/0.3025\n",
    "print(new_data.describe()) # 發現最小值有0[tatal_price,building_area_square_meter]\n",
    "new_data = new_data.loc[(new_data['total_price']!=0)&(new_data['main_building_area']!=0)]\n",
    "print(new_data.describe())"
   ]
  },
  {
   "cell_type": "code",
   "execution_count": 38,
   "metadata": {},
   "outputs": [
    {
     "name": "stdout",
     "output_type": "stream",
     "text": [
      "                               total_price  unit_price_square_feet\n",
      "total_price                       1.000000                0.581290\n",
      "building_area_square_meter        0.864627                0.218185\n",
      "main_building_area                0.710515                0.112488\n",
      "unit_price                        0.581290                1.000000\n",
      "room_number                       0.326441               -0.100062\n",
      "hall_number                       0.270787                0.004883\n",
      "health_number                     0.598832                0.128217\n",
      "tx_dt_year                             NaN                     NaN\n",
      "buildin_area_square_feet          0.864627                0.218185\n",
      "main_buildin_area_square_feet     0.710515                0.112488\n",
      "unit_price_square_feet            0.581290                1.000000\n"
     ]
    }
   ],
   "source": [
    "# 4. 找出台北市時價登入總價高度相關的變數\n",
    "# 阿宏我是台北人他想找出影響台北市總價、單價元坪的因子\n",
    "# 相關係數0.3以下為低相關，0.3~0.7為中等相關，0.7以上為高度相關\n",
    "# 資料切片切出city欄位為台北市的資料，並找出時價登入總價(total_price)高度相關的變數\n",
    "# 資料切片切出city欄位為台北市的資料，找出單價元坪(unit_price_square_feet)高度相關的變數\n",
    "new_data1 = new_data.loc[new_data['city']=='台北'].corr()[['total_price', 'unit_price_square_feet']]\n",
    "print(new_data1)"
   ]
  },
  {
   "cell_type": "code",
   "execution_count": 39,
   "metadata": {},
   "outputs": [
    {
     "data": {
      "image/png": "[encoded data removed]",
      "text/plain": [
       "<Figure size 1152x432 with 1 Axes>"
      ]
     },
     "metadata": {
      "needs_background": "light"
     },
     "output_type": "display_data"
    }
   ],
   "source": [
    "# 5. 資料視覺化並解釋\n",
    "# 以城市(city)為x軸，以單價元坪(unit_price_square_feet)為y軸畫出boxplot，\n",
    "# 並找出單價元坪(unit_price_square_feet)中位數最高的地區\n",
    "import matplotlib.pyplot as plt\n",
    "new_data.boxplot(column=['unit_price_square_feet'], by='city', figsize=(16,6))\n",
    "plt.xticks([1,2,3,4],['Taipei','Taichung','Kaohsiung','newTaipei'])\n",
    "plt.show()"
   ]
  },
  {
   "cell_type": "code",
   "execution_count": 40,
   "metadata": {},
   "outputs": [
    {
     "data": {
      "image/png": "[encoded data removed]",
      "text/plain": [
       "<Figure size 1152x432 with 1 Axes>"
      ]
     },
     "metadata": {
      "needs_background": "light"
     },
     "output_type": "display_data"
    }
   ],
   "source": [
    "# 5-1. 進一步對台北市的資料做圖，以建物現況格局-房(room_number)為x軸，以總價元(total_price)為y軸畫出boxplot，\n",
    "# 並找出總價元(total_price)中位數最高的房間數。hint:資料切片找出city欄位為台北市的資料，再進一步畫圖\n",
    "new_data.loc[new_data['city']=='台北'].boxplot(column=['total_price'], by='room_number', figsize=(16,6))\n",
    "plt.show()"
   ]
  },
  {
   "cell_type": "code",
   "execution_count": 41,
   "metadata": {},
   "outputs": [
    {
     "name": "stdout",
     "output_type": "stream",
     "text": [
      "0    39\n",
      "1    39\n",
      "2    39\n",
      "3    39\n",
      "4    39\n",
      "Name: new_towns, dtype: int32\n"
     ]
    },
    {
     "data": {
      "image/png": "[encoded data removed]",
      "text/plain": [
       "<Figure size 1152x432 with 1 Axes>"
      ]
     },
     "metadata": {
      "needs_background": "light"
     },
     "output_type": "display_data"
    },
    {
     "name": "stdout",
     "output_type": "stream",
     "text": [
      "['大安區']\n"
     ]
    }
   ],
   "source": [
    "# 5-2. 對台北市的資料做圖，先將地區(twons)做編碼在進行，再以地區(twon)為x軸，以單價元坪(unit_price_square_feet)為y軸畫出boxplot，並找出單價元坪(unit_price_square_feet)中位數最高的地區。\n",
    "# hint:運用LabelEncoder()對地區(twons)做編碼，運用.inverse_transform()反查編碼的地區\n",
    "from sklearn.preprocessing import LabelEncoder\n",
    "le = LabelEncoder().fit(new_data['towns'].values)\n",
    "new_data['new_towns'] = le.transform(new_data['towns'].values)\n",
    "print(new_data['new_towns'].head())\n",
    "new_data.loc[new_data['city']=='台北'].boxplot(column=['unit_price_square_feet'], by='new_towns', figsize=(16,6))\n",
    "plt.show()\n",
    "\n",
    "#運用.inverse_transform()反查編碼的地區\n",
    "print(le.inverse_transform([26])) #大安區單價最高"
   ]
  },
  {
   "cell_type": "code",
   "execution_count": 42,
   "metadata": {},
   "outputs": [
    {
     "name": "stdout",
     "output_type": "stream",
     "text": [
      "                               total_price  unit_price_square_feet\n",
      "total_price                       1.000000                0.577494\n",
      "building_area_square_meter        0.662400               -0.019893\n",
      "main_building_area                0.608987               -0.001812\n",
      "unit_price                        0.577494                1.000000\n",
      "room_number                       0.456589                0.056769\n",
      "hall_number                       0.341322                0.055753\n",
      "health_number                     0.447979                0.018283\n",
      "tx_dt_year                             NaN                     NaN\n",
      "buildin_area_square_feet          0.662400               -0.019893\n",
      "main_buildin_area_square_feet     0.608987               -0.001812\n",
      "unit_price_square_feet            0.577494                1.000000\n",
      "new_towns                         0.017246                0.081254\n"
     ]
    },
    {
     "data": {
      "image/png": "[encoded data removed]",
      "text/plain": [
       "<Figure size 1152x432 with 1 Axes>"
      ]
     },
     "metadata": {
      "needs_background": "light"
     },
     "output_type": "display_data"
    },
    {
     "data": {
      "image/png": "[encoded data removed]",
      "text/plain": [
       "<Figure size 1152x432 with 1 Axes>"
      ]
     },
     "metadata": {
      "needs_background": "light"
     },
     "output_type": "display_data"
    },
    {
     "name": "stdout",
     "output_type": "stream",
     "text": [
      "['西屯區']\n"
     ]
    }
   ],
   "source": [
    "#台中\n",
    "new_data2 = new_data.loc[new_data['city']=='台中'].corr()[['total_price','unit_price_square_feet']]\n",
    "print(new_data2)\n",
    "new_data.loc[new_data['city']=='台中'].boxplot(column='total_price', by='room_number', figsize=(16,6))\n",
    "plt.show() # 台中總價四房比五房貴\n",
    "new_data.loc[new_data['city']=='台中'].boxplot(column='unit_price_square_feet', by='new_towns', figsize=(16,6))\n",
    "plt.show()\n",
    "#運用.inverse_transform()反查編碼的地區\n",
    "print(le.inverse_transform([76])) #西屯區每坪單價最貴"
   ]
  },
  {
   "cell_type": "code",
   "execution_count": null,
   "metadata": {},
   "outputs": [],
   "source": []
  }
 ],
 "metadata": {
  "kernelspec": {
   "display_name": "Python 3",
   "language": "python",
   "name": "python3"
  },
  "language_info": {
   "codemirror_mode": {
    "name": "ipython",
    "version": 3
   },
   "file_extension": ".py",
   "mimetype": "text/x-python",
   "name": "python",
   "nbconvert_exporter": "python",
   "pygments_lexer": "ipython3",
   "version": "3.8.5"
  }
 },
 "nbformat": 4,
 "nbformat_minor": 4
}
